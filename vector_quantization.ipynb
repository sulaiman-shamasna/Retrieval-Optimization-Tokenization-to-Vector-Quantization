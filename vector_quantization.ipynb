{
 "cells": [
  {
   "cell_type": "markdown",
   "id": "d00877c8-426d-4ca5-b509-ef16ca0c6208",
   "metadata": {},
   "source": [
    "# Vector Quantization"
   ]
  },
  {
   "cell_type": "code",
   "execution_count": null,
   "id": "2da736d1-4d7f-4c38-a390-391fed6e5057",
   "metadata": {},
   "outputs": [],
   "source": [
    "import warnings\n",
    "warnings.filterwarnings('ignore')\n",
    "\n",
    "from qdrant_client import QdrantClient, models\n",
    "\n",
    "client = QdrantClient(\"http://localhost:6333\", timeout=600)\n",
    "client.delete_collection(\"wands-products\")\n",
    "client.recover_snapshot(\n",
    "    \"wands-products\", \n",
    "    \"https://storage.googleapis.com/deeplearning-course-c1/snapshots/wands-products.snapshot\",\n",
    ")\n",
    "collection = client.get_collection(\"wands-products\")\n",
    "collection"
   ]
  },
  {
   "cell_type": "code",
   "execution_count": null,
   "id": "5ce646a0-3d5b-4eeb-ba7c-58ff80dd4d18",
   "metadata": {},
   "outputs": [],
   "source": []
  },
  {
   "cell_type": "code",
   "execution_count": null,
   "id": "5d7a2a7c-1fae-46a0-9531-05a6453edcf4",
   "metadata": {},
   "outputs": [],
   "source": []
  },
  {
   "cell_type": "code",
   "execution_count": null,
   "id": "7ee0d1b8-2f76-4d33-a749-f0ff3e86b87a",
   "metadata": {},
   "outputs": [],
   "source": []
  },
  {
   "cell_type": "code",
   "execution_count": null,
   "id": "43441b15-2e25-4f32-9bcc-08e3c961ad92",
   "metadata": {},
   "outputs": [],
   "source": []
  },
  {
   "cell_type": "code",
   "execution_count": null,
   "id": "7ab745d5-df91-4f2b-9d04-ce5609746c70",
   "metadata": {},
   "outputs": [],
   "source": []
  },
  {
   "cell_type": "code",
   "execution_count": null,
   "id": "d5d12fcb-6d92-4fa7-8712-99a0d9cb3c1b",
   "metadata": {},
   "outputs": [],
   "source": []
  },
  {
   "cell_type": "code",
   "execution_count": null,
   "id": "7f0f1de5-15bd-4199-a4ce-6aa2007dc318",
   "metadata": {},
   "outputs": [],
   "source": []
  },
  {
   "cell_type": "code",
   "execution_count": null,
   "id": "7e9614a9-1d76-4aae-9d52-90e13ce439c2",
   "metadata": {},
   "outputs": [],
   "source": []
  },
  {
   "cell_type": "code",
   "execution_count": null,
   "id": "7e120c89-5bd7-40ef-8b80-b74a5d6ef3f7",
   "metadata": {},
   "outputs": [],
   "source": []
  },
  {
   "cell_type": "code",
   "execution_count": null,
   "id": "97e062c7-811d-46e1-948b-cf64aca537bf",
   "metadata": {},
   "outputs": [],
   "source": []
  },
  {
   "cell_type": "code",
   "execution_count": null,
   "id": "0c550bd2-9fa8-4a56-b9db-69095b44b02f",
   "metadata": {},
   "outputs": [],
   "source": []
  }
 ],
 "metadata": {
  "kernelspec": {
   "display_name": "Python 3 (ipykernel)",
   "language": "python",
   "name": "python3"
  },
  "language_info": {
   "codemirror_mode": {
    "name": "ipython",
    "version": 3
   },
   "file_extension": ".py",
   "mimetype": "text/x-python",
   "name": "python",
   "nbconvert_exporter": "python",
   "pygments_lexer": "ipython3",
   "version": "3.10.11"
  }
 },
 "nbformat": 4,
 "nbformat_minor": 5
}
