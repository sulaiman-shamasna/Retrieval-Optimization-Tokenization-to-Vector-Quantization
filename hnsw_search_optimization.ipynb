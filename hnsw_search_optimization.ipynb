{
 "cells": [
  {
   "cell_type": "markdown",
   "id": "b947477c-213c-46a8-8e68-ee0e4e8dddf7",
   "metadata": {},
   "source": [
    "# Optimizing HNSW Search"
   ]
  },
  {
   "cell_type": "code",
   "execution_count": 1,
   "id": "7e2e9bbd-cf07-4c2c-ac2b-b4096e36d823",
   "metadata": {},
   "outputs": [
    {
     "data": {
      "text/plain": [
       "CollectionInfo(status=<CollectionStatus.GREEN: 'green'>, optimizer_status=<OptimizersStatusOneOf.OK: 'ok'>, vectors_count=None, indexed_vectors_count=85988, points_count=42994, segments_count=2, config=CollectionConfig(params=CollectionParams(vectors={'product_description': VectorParams(size=384, distance=<Distance.COSINE: 'Cosine'>, hnsw_config=None, quantization_config=None, on_disk=None, datatype=None), 'product_name': VectorParams(size=384, distance=<Distance.COSINE: 'Cosine'>, hnsw_config=None, quantization_config=None, on_disk=None, datatype=None)}, shard_number=1, sharding_method=None, replication_factor=1, write_consistency_factor=1, read_fan_out_factor=None, on_disk_payload=True, sparse_vectors=None), hnsw_config=HnswConfig(m=16, ef_construct=100, full_scan_threshold=10000, max_indexing_threads=0, on_disk=False, payload_m=None), optimizer_config=OptimizersConfig(deleted_threshold=0.2, vacuum_min_vector_number=1000, default_segment_number=2, max_segment_size=None, memmap_threshold=None, indexing_threshold=1000, flush_interval_sec=5, max_optimization_threads=None), wal_config=WalConfig(wal_capacity_mb=32, wal_segments_ahead=0), quantization_config=None), payload_schema={})"
      ]
     },
     "execution_count": 1,
     "metadata": {},
     "output_type": "execute_result"
    }
   ],
   "source": [
    "import warnings\n",
    "warnings.filterwarnings('ignore')\n",
    "\n",
    "from qdrant_client import QdrantClient, models\n",
    "\n",
    "client = QdrantClient(\"http://localhost:6333\", timeout=600)\n",
    "client.delete_collection(\"wands-products\")\n",
    "client.recover_snapshot(\n",
    "    \"wands-products\", \n",
    "    \"https://storage.googleapis.com/deeplearning-course-c1/snapshots/wands-products.snapshot\",\n",
    ")\n",
    "collection = client.get_collection(\"wands-products\")\n",
    "collection"
   ]
  },
  {
   "cell_type": "markdown",
   "id": "ee82281a-006c-4afb-b73e-2e52422222a0",
   "metadata": {},
   "source": [
    "## HNSW parameters"
   ]
  },
  {
   "cell_type": "code",
   "execution_count": 2,
   "id": "8f811352-8408-4c92-b231-d14539131e05",
   "metadata": {},
   "outputs": [
    {
     "data": {
      "text/plain": [
       "HnswConfig(m=16, ef_construct=100, full_scan_threshold=10000, max_indexing_threads=0, on_disk=False, payload_m=None)"
      ]
     },
     "execution_count": 2,
     "metadata": {},
     "output_type": "execute_result"
    }
   ],
   "source": [
    "collection.config.hnsw_config"
   ]
  },
  {
   "cell_type": "markdown",
   "id": "1fcd16bb-c2eb-4a81-98f0-2435f344b036",
   "metadata": {},
   "source": [
    "## Test queries"
   ]
  },
  {
   "cell_type": "code",
   "execution_count": 3,
   "id": "7aa2c945-ee8d-457f-bfe9-f62583bf3906",
   "metadata": {},
   "outputs": [],
   "source": [
    "from sentence_transformers import SentenceTransformer\n",
    "\n",
    "model = SentenceTransformer(\"all-MiniLM-L6-v2\")"
   ]
  },
  {
   "cell_type": "code",
   "execution_count": 4,
   "id": "331c3ea9-cd41-477d-bbed-f403997b840c",
   "metadata": {},
   "outputs": [
    {
     "data": {
      "text/html": [
       "<div>\n",
       "<style scoped>\n",
       "    .dataframe tbody tr th:only-of-type {\n",
       "        vertical-align: middle;\n",
       "    }\n",
       "\n",
       "    .dataframe tbody tr th {\n",
       "        vertical-align: top;\n",
       "    }\n",
       "\n",
       "    .dataframe thead th {\n",
       "        text-align: right;\n",
       "    }\n",
       "</style>\n",
       "<table border=\"1\" class=\"dataframe\">\n",
       "  <thead>\n",
       "    <tr style=\"text-align: right;\">\n",
       "      <th></th>\n",
       "      <th>query</th>\n",
       "      <th>query_class</th>\n",
       "      <th>query_embedding</th>\n",
       "    </tr>\n",
       "    <tr>\n",
       "      <th>query_id</th>\n",
       "      <th></th>\n",
       "      <th></th>\n",
       "      <th></th>\n",
       "    </tr>\n",
       "  </thead>\n",
       "  <tbody>\n",
       "    <tr>\n",
       "      <th>71</th>\n",
       "      <td>infant girl crib bedding</td>\n",
       "      <td>Crib Bedding Sets</td>\n",
       "      <td>[0.0211443230509758, -0.007067469879984856, -0...</td>\n",
       "    </tr>\n",
       "    <tr>\n",
       "      <th>54</th>\n",
       "      <td>wayfair sleep zippered</td>\n",
       "      <td>Mattress Covers and Protectors</td>\n",
       "      <td>[-0.033533722162246704, 0.0907270684838295, -0...</td>\n",
       "    </tr>\n",
       "    <tr>\n",
       "      <th>21</th>\n",
       "      <td>living curtains pearl</td>\n",
       "      <td>Curtains &amp; Drapes</td>\n",
       "      <td>[-0.052172575145959854, 0.0335204042494297, 0....</td>\n",
       "    </tr>\n",
       "    <tr>\n",
       "      <th>458</th>\n",
       "      <td>bubble guppies chair</td>\n",
       "      <td>Dining Chairs</td>\n",
       "      <td>[0.0026144732255488634, -0.019996589049696922,...</td>\n",
       "    </tr>\n",
       "    <tr>\n",
       "      <th>480</th>\n",
       "      <td>pictures to hang over fireplace</td>\n",
       "      <td>Wall Art</td>\n",
       "      <td>[0.06838737428188324, 0.08617142587900162, -0....</td>\n",
       "    </tr>\n",
       "  </tbody>\n",
       "</table>\n",
       "</div>"
      ],
      "text/plain": [
       "                                    query                     query_class  \\\n",
       "query_id                                                                    \n",
       "71               infant girl crib bedding               Crib Bedding Sets   \n",
       "54                 wayfair sleep zippered  Mattress Covers and Protectors   \n",
       "21                  living curtains pearl               Curtains & Drapes   \n",
       "458                  bubble guppies chair                   Dining Chairs   \n",
       "480       pictures to hang over fireplace                        Wall Art   \n",
       "\n",
       "                                            query_embedding  \n",
       "query_id                                                     \n",
       "71        [0.0211443230509758, -0.007067469879984856, -0...  \n",
       "54        [-0.033533722162246704, 0.0907270684838295, -0...  \n",
       "21        [-0.052172575145959854, 0.0335204042494297, 0....  \n",
       "458       [0.0026144732255488634, -0.019996589049696922,...  \n",
       "480       [0.06838737428188324, 0.08617142587900162, -0....  "
      ]
     },
     "execution_count": 4,
     "metadata": {},
     "output_type": "execute_result"
    }
   ],
   "source": [
    "import pandas as pd\n",
    "\n",
    "queries_df = pd.read_csv(\n",
    "    \"shared_data/WANDS/query.csv\", \n",
    "    sep=\"\\t\", \n",
    "    index_col=\"query_id\",\n",
    ")\n",
    "queries_df[\"query_embedding\"] = model.encode(\n",
    "    queries_df[\"query\"].tolist()\n",
    ").tolist()\n",
    "queries_df.sample(n=5)"
   ]
  },
  {
   "cell_type": "markdown",
   "id": "5df0115a-a0b6-458c-8cd1-39a7ffb55aff",
   "metadata": {},
   "source": [
    "## A"
   ]
  },
  {
   "cell_type": "code",
   "execution_count": null,
   "id": "d3157782-4eed-4564-acc2-6487f60ab145",
   "metadata": {},
   "outputs": [],
   "source": []
  },
  {
   "cell_type": "code",
   "execution_count": null,
   "id": "008786d7-91fa-44d1-8d5a-d542e1cf2c81",
   "metadata": {},
   "outputs": [],
   "source": []
  },
  {
   "cell_type": "code",
   "execution_count": null,
   "id": "3082fabf-234f-4ebe-9db5-8a0b6a204946",
   "metadata": {},
   "outputs": [],
   "source": []
  },
  {
   "cell_type": "code",
   "execution_count": null,
   "id": "f8d2f6f0-7f71-4c4b-ada7-421714752a36",
   "metadata": {},
   "outputs": [],
   "source": []
  },
  {
   "cell_type": "code",
   "execution_count": null,
   "id": "af6abc40-9fe5-44ea-bd98-e4fdf9d2b7be",
   "metadata": {},
   "outputs": [],
   "source": []
  }
 ],
 "metadata": {
  "kernelspec": {
   "display_name": "Python env",
   "language": "python",
   "name": "env"
  },
  "language_info": {
   "codemirror_mode": {
    "name": "ipython",
    "version": 3
   },
   "file_extension": ".py",
   "mimetype": "text/x-python",
   "name": "python",
   "nbconvert_exporter": "python",
   "pygments_lexer": "ipython3",
   "version": "3.10.11"
  }
 },
 "nbformat": 4,
 "nbformat_minor": 5
}
