{
 "cells": [
  {
   "cell_type": "markdown",
   "id": "78fc77ed-e605-4628-9b2f-a20a52707307",
   "metadata": {},
   "source": [
    "# Practical Implications of the Tokenization"
   ]
  },
  {
   "cell_type": "code",
   "execution_count": null,
   "id": "e640a9ff-a493-4901-b537-903bc97ff7e1",
   "metadata": {},
   "outputs": [],
   "source": []
  },
  {
   "cell_type": "code",
   "execution_count": 1,
   "id": "0573beb8-6fa2-4ccb-a7df-1cb8accdedeb",
   "metadata": {},
   "outputs": [],
   "source": [
    "import warnings\n",
    "warnings.filterwarnings('ignore')"
   ]
  },
  {
   "cell_type": "code",
   "execution_count": 2,
   "id": "0ad829d4-4b72-4d77-aab3-08338e32f4b4",
   "metadata": {},
   "outputs": [
    {
     "data": {
      "text/plain": [
       "(384,)"
      ]
     },
     "execution_count": 2,
     "metadata": {},
     "output_type": "execute_result"
    }
   ],
   "source": [
    "from sentence_transformers import SentenceTransformer, util\n",
    "\n",
    "sbert_model = SentenceTransformer(\"all-MiniLM-L6-v2\")\n",
    "out_vector = sbert_model.encode(\"Vector search optimization\")\n",
    "out_vector.shape"
   ]
  },
  {
   "cell_type": "code",
   "execution_count": 4,
   "id": "8b71974f-7618-490e-8213-cdd468ef75c5",
   "metadata": {},
   "outputs": [
    {
     "data": {
      "text/plain": [
       "<tokenizers.Tokenizer at 0x25cacf50030>"
      ]
     },
     "execution_count": 4,
     "metadata": {},
     "output_type": "execute_result"
    }
   ],
   "source": [
    "sbert_tokenizer = sbert_model.tokenizer._tokenizer\n",
    "sbert_tokenizer"
   ]
  },
  {
   "cell_type": "markdown",
   "id": "170c840d-47c7-4945-8b26-24f41e19259c",
   "metadata": {},
   "source": [
    "## Unknown tokens"
   ]
  },
  {
   "cell_type": "code",
   "execution_count": 5,
   "id": "e7e80e14-d680-4022-ab27-68d7ce4f8a13",
   "metadata": {},
   "outputs": [
    {
     "data": {
      "text/plain": [
       "['[CLS]', 'i', 'feel', '[UNK]', '[SEP]']"
      ]
     },
     "execution_count": 5,
     "metadata": {},
     "output_type": "execute_result"
    }
   ],
   "source": [
    "sbert_tokenizer.encode(\"I feel 😊\").tokens"
   ]
  },
  {
   "cell_type": "code",
   "execution_count": 6,
   "id": "19238a86-eaf6-4063-8d8b-d5fb3b643abf",
   "metadata": {},
   "outputs": [
    {
     "data": {
      "text/plain": [
       "['[CLS]', 'i', 'feel', 'happy', '[SEP]']"
      ]
     },
     "execution_count": 6,
     "metadata": {},
     "output_type": "execute_result"
    }
   ],
   "source": [
    "sbert_tokenizer.encode(\"I feel happy\").tokens"
   ]
  },
  {
   "cell_type": "code",
   "execution_count": 7,
   "id": "e59aa23c-a643-465b-9533-4aceaeb6f68f",
   "metadata": {},
   "outputs": [
    {
     "data": {
      "text/plain": [
       "['[CLS]', 'i', 'feel', '[UNK]', '[SEP]']"
      ]
     },
     "execution_count": 7,
     "metadata": {},
     "output_type": "execute_result"
    }
   ],
   "source": [
    "sbert_tokenizer.encode(\"I feel 🙁\").tokens"
   ]
  },
  {
   "cell_type": "code",
   "execution_count": 8,
   "id": "2237e990-a792-4fe7-809c-2dee114d529d",
   "metadata": {},
   "outputs": [
    {
     "data": {
      "text/plain": [
       "['[CLS]', 'i', 'feel', 'sad', '[SEP]']"
      ]
     },
     "execution_count": 8,
     "metadata": {},
     "output_type": "execute_result"
    }
   ],
   "source": [
    "sbert_tokenizer.encode(\"I feel sad\").tokens"
   ]
  },
  {
   "cell_type": "markdown",
   "id": "1d7c5ac7-58a7-4d52-86f0-c627ae784f74",
   "metadata": {},
   "source": [
    "## Identifiers"
   ]
  },
  {
   "cell_type": "code",
   "execution_count": 9,
   "id": "525262a3-e22d-421c-be27-6b508fe36755",
   "metadata": {},
   "outputs": [
    {
     "data": {
      "text/plain": [
       "['[CLS]', 'broad', '##com', 'bc', '##m', '##27', '##12', '[SEP]']"
      ]
     },
     "execution_count": 9,
     "metadata": {},
     "output_type": "execute_result"
    }
   ],
   "source": [
    "sbert_tokenizer.encode(\"Broadcom BCM2712\").tokens"
   ]
  },
  {
   "cell_type": "markdown",
   "id": "777334a3-2309-40cd-8b48-6222154db7f1",
   "metadata": {},
   "source": [
    "## Typos"
   ]
  },
  {
   "cell_type": "code",
   "execution_count": 10,
   "id": "e750459a-819f-4b9a-9c47-9313100e3a1a",
   "metadata": {},
   "outputs": [
    {
     "name": "stdout",
     "output_type": "stream",
     "text": [
      "['[CLS]', 'great', 'accommodation', '[SEP]']\n",
      "['[CLS]', 'great', 'ac', '##om', '##mo', '##dation', '[SEP]']\n"
     ]
    }
   ],
   "source": [
    "sentences = [\n",
    "    \"Great accommodation\",\n",
    "    \"Great acommodation\",\n",
    "]\n",
    "for sentence in sentences:\n",
    "    print(sbert_tokenizer.encode(sentence).tokens)"
   ]
  },
  {
   "cell_type": "code",
   "execution_count": null,
   "id": "5dda64b0-284b-47c0-878c-9c64b6a20e0d",
   "metadata": {},
   "outputs": [],
   "source": []
  },
  {
   "cell_type": "code",
   "execution_count": null,
   "id": "651adce5-1815-42cf-8380-dbd3d31c71a6",
   "metadata": {},
   "outputs": [],
   "source": []
  },
  {
   "cell_type": "code",
   "execution_count": null,
   "id": "466555cf-2ed0-4196-94ec-1fe499162b26",
   "metadata": {},
   "outputs": [],
   "source": []
  },
  {
   "cell_type": "code",
   "execution_count": null,
   "id": "cf080ffe-c334-4208-883e-97daf88a36d5",
   "metadata": {},
   "outputs": [],
   "source": []
  },
  {
   "cell_type": "code",
   "execution_count": null,
   "id": "df5a6a86-a03b-41d1-ae61-518ac980fb7a",
   "metadata": {},
   "outputs": [],
   "source": []
  },
  {
   "cell_type": "code",
   "execution_count": null,
   "id": "8ecb84b0-c3a3-4479-a465-cdb4b6638718",
   "metadata": {},
   "outputs": [],
   "source": []
  },
  {
   "cell_type": "code",
   "execution_count": null,
   "id": "b75020cb-5d83-42a6-8add-02442ee918de",
   "metadata": {},
   "outputs": [],
   "source": []
  },
  {
   "cell_type": "code",
   "execution_count": null,
   "id": "529c2e7c-bc69-48ec-a1fd-d06b5eb4e419",
   "metadata": {},
   "outputs": [],
   "source": []
  }
 ],
 "metadata": {
  "kernelspec": {
   "display_name": "Python env",
   "language": "python",
   "name": "env"
  },
  "language_info": {
   "codemirror_mode": {
    "name": "ipython",
    "version": 3
   },
   "file_extension": ".py",
   "mimetype": "text/x-python",
   "name": "python",
   "nbconvert_exporter": "python",
   "pygments_lexer": "ipython3",
   "version": "3.10.11"
  }
 },
 "nbformat": 4,
 "nbformat_minor": 5
}
