{
 "cells": [
  {
   "cell_type": "code",
   "execution_count": 2,
   "id": "6049737b-2ca0-441d-8d63-ddc946fe516e",
   "metadata": {},
   "outputs": [],
   "source": [
    "import warnings\n",
    "warnings.filterwarnings('ignore')\n",
    "\n",
    "training_data = [\n",
    "    \"walker walked a long walk\",\n",
    "]"
   ]
  },
  {
   "cell_type": "code",
   "execution_count": 4,
   "id": "b63b06d7-5880-4518-8c6f-0d4329fcc428",
   "metadata": {},
   "outputs": [],
   "source": [
    "## Byte Pain Encoding - BPE\n",
    "\n",
    "from tokenizers.trainers import BpeTrainer\n",
    "from tokenizers.models import BPE\n",
    "from tokenizers import Tokenizer\n",
    "from tokenizers.pre_tokenizers import Whitespace\n",
    "\n",
    "bpe_tokenizer = Tokenizer(BPE())\n",
    "bpe_tokenizer.pre_tokenizer = Whitespace()\n",
    "\n",
    "bpe_trainer = BpeTrainer(vocab_size=14)\n",
    "\n",
    "bpe_tokenizer.train_from_iterator(training_data, bpe_trainer)"
   ]
  },
  {
   "cell_type": "code",
   "execution_count": 5,
   "id": "e8401e94-69dc-42fd-b963-3b91c3f922f1",
   "metadata": {},
   "outputs": [
    {
     "data": {
      "text/plain": [
       "{'o': 7,\n",
       " 'r': 8,\n",
       " 'w': 9,\n",
       " 'walke': 13,\n",
       " 'e': 2,\n",
       " 'n': 6,\n",
       " 'wal': 11,\n",
       " 'al': 10,\n",
       " 'walk': 12,\n",
       " 'd': 1,\n",
       " 'g': 3,\n",
       " 'k': 4,\n",
       " 'l': 5,\n",
       " 'a': 0}"
      ]
     },
     "execution_count": 5,
     "metadata": {},
     "output_type": "execute_result"
    }
   ],
   "source": [
    "bpe_tokenizer.get_vocab()"
   ]
  },
  {
   "cell_type": "code",
   "execution_count": 6,
   "id": "f95cedd5-dc21-4dbb-bbe9-9459e2117a0f",
   "metadata": {},
   "outputs": [
    {
     "data": {
      "text/plain": [
       "['walke', 'r', 'walke', 'd', 'a', 'l', 'o', 'n', 'g', 'walk']"
      ]
     },
     "execution_count": 6,
     "metadata": {},
     "output_type": "execute_result"
    }
   ],
   "source": [
    "bpe_tokenizer.encode(\"walker walked a long walk\").tokens"
   ]
  },
  {
   "cell_type": "code",
   "execution_count": 7,
   "id": "dfba9115-4bd6-48ad-a8b5-2ac15f0f70d8",
   "metadata": {},
   "outputs": [
    {
     "data": {
      "text/plain": [
       "[9, 5, 4]"
      ]
     },
     "execution_count": 7,
     "metadata": {},
     "output_type": "execute_result"
    }
   ],
   "source": [
    "bpe_tokenizer.encode(\"wlk\").ids"
   ]
  },
  {
   "cell_type": "code",
   "execution_count": 8,
   "id": "999503e7-f237-46f2-b818-88cc7b318e22",
   "metadata": {},
   "outputs": [
    {
     "data": {
      "text/plain": [
       "['w', 'l', 'k']"
      ]
     },
     "execution_count": 8,
     "metadata": {},
     "output_type": "execute_result"
    }
   ],
   "source": [
    "bpe_tokenizer.encode(\"wlk\").tokens"
   ]
  },
  {
   "cell_type": "code",
   "execution_count": 9,
   "id": "abb5ac7b-b641-445b-aebe-076ed7e79c6a",
   "metadata": {},
   "outputs": [
    {
     "data": {
      "text/plain": [
       "['e', 'walke', 'd']"
      ]
     },
     "execution_count": 9,
     "metadata": {},
     "output_type": "execute_result"
    }
   ],
   "source": [
    "bpe_tokenizer.encode(\"she walked\").tokens"
   ]
  },
  {
   "cell_type": "code",
   "execution_count": 25,
   "id": "48339523-9976-41b8-a2f7-969ce38b522d",
   "metadata": {},
   "outputs": [],
   "source": [
    "## WordPiece\n",
    "\n",
    "from real_wordpiece.trainer import RealWordPieceTrainer\n",
    "from tokenizers.models import WordPiece\n",
    "\n",
    "real_wordpiece_tokenizer = Tokenizer(WordPiece())\n",
    "real_wordpiece_tokenizer.pre_tokenizer = Whitespace()\n",
    "\n",
    "real_wordpiece_trainer = RealWordPieceTrainer(\n",
    "    vocab_size=27,\n",
    ")"
   ]
  },
  {
   "cell_type": "code",
   "execution_count": 11,
   "id": "0d1e22ae-2a6d-436a-94cf-636c705e54da",
   "metadata": {},
   "outputs": [
    {
     "data": {
      "text/plain": [
       "{'n': 17,\n",
       " 'long': 21,\n",
       " '##n': 10,\n",
       " 'd': 15,\n",
       " 'g': 18,\n",
       " '##d': 8,\n",
       " 'a': 5,\n",
       " 'o': 16,\n",
       " '##g': 11,\n",
       " '##ed': 23,\n",
       " 'e': 13,\n",
       " '##l': 2,\n",
       " '##er': 22,\n",
       " '##k': 3,\n",
       " '##lk': 25,\n",
       " '##e': 4,\n",
       " 'wa': 24,\n",
       " 'w': 0,\n",
       " '##o': 9,\n",
       " '##r': 7,\n",
       " 'lo': 19,\n",
       " '##ng': 20,\n",
       " 'l': 6,\n",
       " 'k': 12,\n",
       " 'walk': 26,\n",
       " '##a': 1,\n",
       " 'r': 14}"
      ]
     },
     "execution_count": 11,
     "metadata": {},
     "output_type": "execute_result"
    }
   ],
   "source": [
    "real_wordpiece_trainer.train_tokenizer(\n",
    "    training_data, real_wordpiece_tokenizer\n",
    ")\n",
    "real_wordpiece_tokenizer.get_vocab()"
   ]
  },
  {
   "cell_type": "code",
   "execution_count": 12,
   "id": "eed2a131-4f63-46e3-a96d-be8dd308331b",
   "metadata": {},
   "outputs": [
    {
     "data": {
      "text/plain": [
       "['walk', '##er', 'walk', '##ed', 'a', 'long', 'walk']"
      ]
     },
     "execution_count": 12,
     "metadata": {},
     "output_type": "execute_result"
    }
   ],
   "source": [
    "real_wordpiece_tokenizer.encode(\"walker walked a long walk\").tokens"
   ]
  },
  {
   "cell_type": "code",
   "execution_count": 13,
   "id": "2bc8c0af-4786-46f1-ae9f-37f15f784b10",
   "metadata": {},
   "outputs": [
    {
     "data": {
      "text/plain": [
       "['w', '##lk']"
      ]
     },
     "execution_count": 13,
     "metadata": {},
     "output_type": "execute_result"
    }
   ],
   "source": [
    "real_wordpiece_tokenizer.encode(\"wlk\").tokens"
   ]
  },
  {
   "cell_type": "code",
   "execution_count": 14,
   "id": "6a0766ba-2c25-4ba5-bee8-68b689d20de3",
   "metadata": {},
   "outputs": [
    {
     "ename": "Exception",
     "evalue": "WordPiece error: Missing [UNK] token from the vocabulary",
     "output_type": "error",
     "traceback": [
      "\u001b[1;31m---------------------------------------------------------------------------\u001b[0m",
      "\u001b[1;31mException\u001b[0m                                 Traceback (most recent call last)",
      "Cell \u001b[1;32mIn[14], line 1\u001b[0m\n\u001b[1;32m----> 1\u001b[0m \u001b[43mreal_wordpiece_tokenizer\u001b[49m\u001b[38;5;241;43m.\u001b[39;49m\u001b[43mencode\u001b[49m\u001b[43m(\u001b[49m\u001b[38;5;124;43m\"\u001b[39;49m\u001b[38;5;124;43mshe walked\u001b[39;49m\u001b[38;5;124;43m\"\u001b[39;49m\u001b[43m)\u001b[49m\u001b[38;5;241m.\u001b[39mtokens\n",
      "\u001b[1;31mException\u001b[0m: WordPiece error: Missing [UNK] token from the vocabulary"
     ]
    }
   ],
   "source": [
    "real_wordpiece_tokenizer.encode(\"she walked\").tokens"
   ]
  },
  {
   "cell_type": "code",
   "execution_count": 27,
   "id": "8f3bce15-87a6-45f9-9c68-13d5276bb79a",
   "metadata": {},
   "outputs": [],
   "source": [
    "## HuggingFace WordPiece and special tokens\n",
    "\n",
    "from tokenizers.trainers import WordPieceTrainer\n",
    "\n",
    "unk_token = \"[UNK]\"\n",
    "\n",
    "wordpiece_model = WordPiece(unk_token=unk_token)\n",
    "wordpiece_tokenizer = Tokenizer(wordpiece_model)\n",
    "wordpiece_tokenizer.pre_tokenizer = Whitespace()\n",
    "wordpiece_trainer = WordPieceTrainer(\n",
    "    vocab_size=28,\n",
    "    special_tokens=[unk_token]\n",
    ")"
   ]
  },
  {
   "cell_type": "code",
   "execution_count": 28,
   "id": "286938df-c113-454a-8eb0-f31b62809d9c",
   "metadata": {},
   "outputs": [
    {
     "data": {
      "text/plain": [
       "{'r': 9,\n",
       " '##d': 19,\n",
       " '##r': 18,\n",
       " '##e': 17,\n",
       " '##k': 16,\n",
       " 'walk': 22,\n",
       " 'walker': 26,\n",
       " '##o': 11,\n",
       " 'walke': 23,\n",
       " 'lo': 24,\n",
       " 'k': 5,\n",
       " 'o': 8,\n",
       " '[UNK]': 0,\n",
       " '##n': 12,\n",
       " 'g': 4,\n",
       " 'w': 10,\n",
       " '##a': 14,\n",
       " 'walked': 27,\n",
       " 'wa': 20,\n",
       " 'l': 6,\n",
       " '##l': 15,\n",
       " '##g': 13,\n",
       " 'a': 1,\n",
       " 'd': 2,\n",
       " 'n': 7,\n",
       " '##lk': 21,\n",
       " '##ng': 25,\n",
       " 'e': 3}"
      ]
     },
     "execution_count": 28,
     "metadata": {},
     "output_type": "execute_result"
    }
   ],
   "source": [
    "wordpiece_tokenizer.train_from_iterator(\n",
    "    training_data, \n",
    "    wordpiece_trainer\n",
    ")\n",
    "wordpiece_tokenizer.get_vocab()"
   ]
  },
  {
   "cell_type": "code",
   "execution_count": 29,
   "id": "9d6029ca-d287-478e-a8f3-e60b67341427",
   "metadata": {},
   "outputs": [
    {
     "data": {
      "text/plain": [
       "['walker', 'walked', 'a', 'lo', '##ng', 'walk']"
      ]
     },
     "execution_count": 29,
     "metadata": {},
     "output_type": "execute_result"
    }
   ],
   "source": [
    "wordpiece_tokenizer.encode(\"walker walked a long walk\").tokens"
   ]
  },
  {
   "cell_type": "code",
   "execution_count": 30,
   "id": "6cc56146-dc85-410a-88b2-89098426a2ee",
   "metadata": {},
   "outputs": [
    {
     "data": {
      "text/plain": [
       "['w', '##lk']"
      ]
     },
     "execution_count": 30,
     "metadata": {},
     "output_type": "execute_result"
    }
   ],
   "source": [
    "wordpiece_tokenizer.encode(\"wlk\").tokens"
   ]
  },
  {
   "cell_type": "code",
   "execution_count": 31,
   "id": "ecb134cf-1998-4156-8108-d8da63453ecc",
   "metadata": {},
   "outputs": [
    {
     "data": {
      "text/plain": [
       "['[UNK]', 'walked']"
      ]
     },
     "execution_count": 31,
     "metadata": {},
     "output_type": "execute_result"
    }
   ],
   "source": [
    "wordpiece_tokenizer.encode(\"she walked\").tokens"
   ]
  },
  {
   "cell_type": "code",
   "execution_count": 32,
   "id": "550cb839-15b7-4faa-b9f1-d4306499c570",
   "metadata": {},
   "outputs": [
    {
     "data": {
      "text/plain": [
       "{'a': 5,\n",
       " 'walk': 4,\n",
       " 'k': 3,\n",
       " 'n': 9,\n",
       " 'walke': 1,\n",
       " '[UNK]': 0,\n",
       " 'e': 8,\n",
       " 'd': 7,\n",
       " 'g': 10,\n",
       " 'o': 11,\n",
       " 'r': 12,\n",
       " 'l': 6,\n",
       " 'w': 2}"
      ]
     },
     "execution_count": 32,
     "metadata": {},
     "output_type": "execute_result"
    }
   ],
   "source": [
    "## Unigram\n",
    "\n",
    "from tokenizers.trainers import UnigramTrainer\n",
    "from tokenizers.models import Unigram\n",
    "\n",
    "unigram_tokenizer = Tokenizer(Unigram())\n",
    "unigram_tokenizer.pre_tokenizer = Whitespace()\n",
    "unigram_trainer = UnigramTrainer(\n",
    "    vocab_size=14, \n",
    "    special_tokens=[unk_token],\n",
    "    unk_token=unk_token,\n",
    ")\n",
    "\n",
    "unigram_tokenizer.train_from_iterator(training_data, unigram_trainer)\n",
    "unigram_tokenizer.get_vocab()"
   ]
  },
  {
   "cell_type": "code",
   "execution_count": 33,
   "id": "590b324b-5daf-40d1-ae6a-899819365f03",
   "metadata": {},
   "outputs": [
    {
     "data": {
      "text/plain": [
       "['walke', 'r', 'walke', 'd', 'a', 'l', 'o', 'n', 'g', 'walk']"
      ]
     },
     "execution_count": 33,
     "metadata": {},
     "output_type": "execute_result"
    }
   ],
   "source": [
    "unigram_tokenizer.encode(\"walker walked a long walk\").tokens"
   ]
  },
  {
   "cell_type": "code",
   "execution_count": 34,
   "id": "c93853bd-1812-4019-b1c4-67494f809956",
   "metadata": {},
   "outputs": [
    {
     "data": {
      "text/plain": [
       "['w', 'l', 'k']"
      ]
     },
     "execution_count": 34,
     "metadata": {},
     "output_type": "execute_result"
    }
   ],
   "source": [
    "unigram_tokenizer.encode(\"wlk\").tokens"
   ]
  },
  {
   "cell_type": "code",
   "execution_count": 35,
   "id": "41167cfc-76c9-458d-ab61-8922672cf436",
   "metadata": {},
   "outputs": [
    {
     "data": {
      "text/plain": [
       "['sh', 'e', 'walke', 'd']"
      ]
     },
     "execution_count": 35,
     "metadata": {},
     "output_type": "execute_result"
    }
   ],
   "source": [
    "unigram_tokenizer.encode(\"she walked\").tokens"
   ]
  },
  {
   "cell_type": "code",
   "execution_count": 36,
   "id": "f1c83e75-9391-48b6-80b8-d27cbc3901fe",
   "metadata": {},
   "outputs": [
    {
     "data": {
      "text/plain": [
       "[0, 8, 1, 7]"
      ]
     },
     "execution_count": 36,
     "metadata": {},
     "output_type": "execute_result"
    }
   ],
   "source": [
    "unigram_tokenizer.encode(\"she walked\").ids"
   ]
  },
  {
   "cell_type": "code",
   "execution_count": null,
   "id": "abdf0a68-bd5e-4c00-8ca2-8cc9f121a052",
   "metadata": {},
   "outputs": [],
   "source": []
  }
 ],
 "metadata": {
  "kernelspec": {
   "display_name": "Python env",
   "language": "python",
   "name": "env"
  },
  "language_info": {
   "codemirror_mode": {
    "name": "ipython",
    "version": 3
   },
   "file_extension": ".py",
   "mimetype": "text/x-python",
   "name": "python",
   "nbconvert_exporter": "python",
   "pygments_lexer": "ipython3",
   "version": "3.10.11"
  }
 },
 "nbformat": 4,
 "nbformat_minor": 5
}
